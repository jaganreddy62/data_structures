{
 "cells": [
  {
   "cell_type": "code",
   "execution_count": 3,
   "metadata": {},
   "outputs": [],
   "source": [
    "import numpy as np\n",
    "\n",
    "twod_array= np.array([[1,2,3,4],[4,5,7]])"
   ]
  },
  {
   "cell_type": "code",
   "execution_count": 5,
   "metadata": {},
   "outputs": [
    {
     "name": "stdout",
     "output_type": "stream",
     "text": [
      "[list([1, 2, 3, 4]) list([4, 5, 7])]\n"
     ]
    }
   ],
   "source": [
    "print(twod_array)"
   ]
  },
  {
   "cell_type": "code",
   "execution_count": 27,
   "metadata": {},
   "outputs": [],
   "source": [
    "def pair_numbers(arr,num):\n",
    "    start = time.time()\n",
    "    pair_nums = []\n",
    "    for i in range(len(arr)):\n",
    "        for j in range(len(arr)) :\n",
    "            if j !=i:\n",
    "                if arr[i]+arr[j]==num:\n",
    "                    pair_nums.append((arr[i],arr[j]))\n",
    "    print(time.time()-start)\n",
    "    return pair_nums\n",
    "            "
   ]
  },
  {
   "cell_type": "code",
   "execution_count": 63,
   "metadata": {},
   "outputs": [],
   "source": [
    "from timeit import default_timer as timer\n",
    "from datetime import timedelta\n",
    "import time\n",
    "num=35\n",
    "arr =[1,2,3,5,6,30]"
   ]
  },
  {
   "cell_type": "code",
   "execution_count": 46,
   "metadata": {},
   "outputs": [
    {
     "name": "stdout",
     "output_type": "stream",
     "text": [
      "0.0\n",
      "189 days, 11:16:51.346685\n"
     ]
    }
   ],
   "source": [
    "start=timer()\n",
    "pair_numbers(arr,num)\n",
    "end=timer()\n",
    "print(timedelta(end,start))"
   ]
  },
  {
   "cell_type": "code",
   "execution_count": 66,
   "metadata": {},
   "outputs": [],
   "source": [
    "#O(n)\n",
    "def sum_numbers(arr,num):\n",
    "    pair_nums = []\n",
    "    seen={}\n",
    "    for i in range(len(arr)):\n",
    "        comp = num-arr[i]\n",
    "        \n",
    "        if comp in seen:\n",
    "            pair_nums.append((comp,arr[i]))\n",
    "        seen[arr[i]]=i\n",
    "    return pair_nums\n",
    "            "
   ]
  },
  {
   "cell_type": "code",
   "execution_count": 67,
   "metadata": {},
   "outputs": [
    {
     "data": {
      "text/plain": [
       "[(5, 30)]"
      ]
     },
     "execution_count": 67,
     "metadata": {},
     "output_type": "execute_result"
    }
   ],
   "source": [
    "sum_numbers(arr,num)\n"
   ]
  },
  {
   "cell_type": "code",
   "execution_count": null,
   "metadata": {},
   "outputs": [],
   "source": [
    "def max_product(arr):\n",
    "    arr.sort(reverse=True)\n",
    "    return arr[0]*arr[1]\n"
   ]
  },
  {
   "cell_type": "code",
   "execution_count": 68,
   "metadata": {},
   "outputs": [
    {
     "name": "stdout",
     "output_type": "stream",
     "text": [
      "63\n"
     ]
    }
   ],
   "source": [
    "def max_product(arr):\n",
    "    # Initialize two variables to store the two largest numbers\n",
    "    max1, max2 = 0, 0  # O(1), constant time initialization\n",
    " \n",
    "    # Iterate through the array\n",
    "    for num in arr:  # O(n), where n is the length of the array\n",
    "        # If the current number is greater than max1, update max1 and max2\n",
    "        if num > max1:  # O(1), constant time comparison\n",
    "            max2 = max1  # O(1), constant time assignment\n",
    "            max1 = num  # O(1), constant time assignment\n",
    "        # If the current number is greater than max2 but not max1, update max2\n",
    "        elif num > max2:  # O(1), constant time comparison\n",
    "            max2 = num  # O(1), constant time assignment\n",
    " \n",
    "    # Return the product of the two largest numbers\n",
    "    return max1 * max2  # O(1), constant time multiplication\n",
    " \n",
    "arr = [1, 7, 3, 4, 9, 5]\n",
    "print(max_product(arr))  # Output: 63 (9*7)"
   ]
  },
  {
   "cell_type": "code",
   "execution_count": 69,
   "metadata": {},
   "outputs": [
    {
     "name": "stdout",
     "output_type": "stream",
     "text": [
      "[2, 3]\n"
     ]
    }
   ],
   "source": [
    "def middle(lst):\n",
    "    # Return a new list containing all elements from the original list, excluding the first and last elements\n",
    "    return lst[1:-1]\n",
    " \n",
    "my_list = [1, 2, 3, 4]\n",
    " \n",
    "print(middle(my_list))  # Output: [2, 3]"
   ]
  },
  {
   "cell_type": "code",
   "execution_count": 70,
   "metadata": {},
   "outputs": [],
   "source": [
    "def diagonal_sum(matrix):\n",
    "    # Initialize the sum to 0\n",
    "    total = 0\n",
    " \n",
    "    # Iterate through the rows of the matrix\n",
    "    for i in range(len(matrix)):\n",
    "        # Add the diagonal element to the total sum\n",
    "        total += matrix[i][i]\n",
    " \n",
    "    return total"
   ]
  },
  {
   "cell_type": "code",
   "execution_count": null,
   "metadata": {},
   "outputs": [],
   "source": [
    "def first_second(my_list):\n",
    "    max1, max2 = float('-inf'), float('-inf')\n",
    " \n",
    "    for num in my_list:\n",
    "        if num > max1:\n",
    "            max2 = max1\n",
    "            max1 = num\n",
    "        elif num > max2 and num != max1:\n",
    "            max2 = num\n",
    " \n",
    "    return max1, max2\n",
    " \n",
    "my_list = [84, 85, 86, 87, 85, 90, 85, 83, 23, 45, 84, 1, 2, 0]\n",
    "print(first_second(my_list))  # Output: (90, 87)"
   ]
  },
  {
   "cell_type": "code",
   "execution_count": null,
   "metadata": {},
   "outputs": [],
   "source": [
    "def remove_duplicates(lst):\n",
    "    unique_lst = []\n",
    "    seen = set()\n",
    "    for item in lst:\n",
    "        if item not in seen:\n",
    "            unique_lst.append(item)\n",
    "            seen.add(item)\n",
    "    return unique_lst\n",
    " \n",
    "my_list = [1, 1, 2, 2, 3, 4, 5]\n",
    "print(remove_duplicates(my_list))  # Output: [1, 2, 3, 4, 5]"
   ]
  },
  {
   "cell_type": "code",
   "execution_count": 71,
   "metadata": {},
   "outputs": [],
   "source": [
    "def remove_duplicates(lst):\n",
    "    return list(set(lst))"
   ]
  },
  {
   "cell_type": "code",
   "execution_count": 76,
   "metadata": {},
   "outputs": [],
   "source": [
    "def pair_sum(myList, sum):\n",
    "    # TODO\n",
    "    outList=[]\n",
    "    seen=[]\n",
    "    for i in range(len(myList)):\n",
    "        com = sum - myList[i]\n",
    "        \n",
    "        if com in seen:\n",
    "            outList.append('+'.join([str(com),str(myList[i])]))\n",
    "        seen.append(myList[i])\n",
    "    return outList"
   ]
  },
  {
   "cell_type": "code",
   "execution_count": 75,
   "metadata": {},
   "outputs": [
    {
     "data": {
      "text/plain": [
       "[]"
      ]
     },
     "execution_count": 75,
     "metadata": {},
     "output_type": "execute_result"
    }
   ],
   "source": [
    "pair_sum(arr, num)"
   ]
  },
  {
   "cell_type": "code",
   "execution_count": 77,
   "metadata": {},
   "outputs": [],
   "source": [
    "def pair_sum(arr, target_sum):\n",
    "    result = []\n",
    "    for i in range(len(arr)):\n",
    "        for j in range(i+1, len(arr)):\n",
    "            if arr[i] + arr[j] == target_sum:\n",
    "                result.append(f\"{arr[i]}+{arr[j]}\")\n",
    "    return result\n",
    " "
   ]
  },
  {
   "cell_type": "code",
   "execution_count": 78,
   "metadata": {},
   "outputs": [],
   "source": [
    "\n",
    "def contains_duplicate(nums):\n",
    "    # TODO\n",
    "    if len(nums) > len(list(set(nums))) :\n",
    "        return True\n",
    "    else :\n",
    "        return False\n"
   ]
  },
  {
   "cell_type": "code",
   "execution_count": 80,
   "metadata": {},
   "outputs": [],
   "source": [
    "def contains_duplicate(nums):\n",
    "    seen = set()\n",
    "    for num in nums:\n",
    "        if num in seen:\n",
    "            return True\n",
    "        seen.add(num)\n",
    "    return False\n",
    " \n"
   ]
  },
  {
   "cell_type": "code",
   "execution_count": 82,
   "metadata": {},
   "outputs": [
    {
     "name": "stdout",
     "output_type": "stream",
     "text": [
      "True\n"
     ]
    }
   ],
   "source": [
    "# Example usage\n",
    "nums = [1, 2, 3, 4, 5, 6, 7, 8, 9, 1]\n",
    "print(contains_duplicate(nums))  # Output: True"
   ]
  },
  {
   "cell_type": "code",
   "execution_count": 83,
   "metadata": {},
   "outputs": [
    {
     "data": {
      "text/plain": [
       "'Explanation:\\n\\n\\n\\nn = len(matrix) - Get the number of rows/columns in the square matrix and store it in the variable n.\\n\\nTranspose the matrix: a. for i in range(n): - Start a loop that iterates over the rows. b. for j in range(i, n): - Start a nested loop that iterates over the columns starting from the current row i. This ensures we only swap elements in the upper triangle of the matrix, avoiding double swaps. c. matrix[i][j], matrix[j][i] = matrix[j][i], matrix[i][j] - Swap the elements at positions (i, j) and (j, i).\\n\\nReverse each row: a. for row in matrix: - Start a loop that iterates over each row in the matrix. b. row.reverse() - Reverse the elements in the current row.\\n\\nThe time complexity of this code is O(n^2), as both the transpose and reverse steps involve nested loops that iterate over all the elements in the matrix. The space complexity is O(1), as the rotation is performed in-place without allocating any additional data structures.\\n\\n'"
      ]
     },
     "execution_count": 83,
     "metadata": {},
     "output_type": "execute_result"
    }
   ],
   "source": [
    "def rotate(matrix):\n",
    "    n = len(matrix)\n",
    " \n",
    "    # Transpose the matrix\n",
    "    for i in range(n):  # Iterate over the rows\n",
    "        for j in range(i, n):  # Iterate over the columns starting from the current row 'i'\n",
    "            # Swap the elements at positions (i, j) and (j, i)\n",
    "            matrix[i][j], matrix[j][i] = matrix[j][i], matrix[i][j]\n",
    " \n",
    "    # Reverse each row\n",
    "    for row in matrix:  # Iterate over each row in the matrix\n",
    "        row.reverse()  # Reverse the elements in the current row\n",
    "'''Explanation:\n",
    "\n",
    "\n",
    "\n",
    "n = len(matrix) - Get the number of rows/columns in the square matrix and store it in the variable n.\n",
    "\n",
    "Transpose the matrix:\n",
    "a. for i in range(n): - Start a loop that iterates over the rows. \n",
    "b. for j in range(i, n): - Start a nested loop that iterates over the columns starting from the current row i. This ensures we only swap elements in the upper triangle of the matrix, avoiding double swaps. \n",
    "c. matrix[i][j], matrix[j][i] = matrix[j][i], matrix[i][j] - Swap the elements at positions (i, j) and (j, i).\n",
    "\n",
    "Reverse each row:\n",
    "a. for row in matrix: - Start a loop that iterates over each row in the matrix.\n",
    "b. row.reverse() - Reverse the elements in the current row.\n",
    "\n",
    "The time complexity of this code is O(n^2), as both the transpose and reverse steps involve nested loops that iterate over all the elements in the matrix. The space complexity is O(1), as the rotation is performed in-place without allocating any additional data structures.\n",
    "\n",
    "'''"
   ]
  },
  {
   "cell_type": "code",
   "execution_count": null,
   "metadata": {},
   "outputs": [],
   "source": []
  }
 ],
 "metadata": {
  "kernelspec": {
   "display_name": "Python 3",
   "language": "python",
   "name": "python3"
  },
  "language_info": {
   "codemirror_mode": {
    "name": "ipython",
    "version": 3
   },
   "file_extension": ".py",
   "mimetype": "text/x-python",
   "name": "python",
   "nbconvert_exporter": "python",
   "pygments_lexer": "ipython3",
   "version": "3.6.6"
  }
 },
 "nbformat": 4,
 "nbformat_minor": 2
}
